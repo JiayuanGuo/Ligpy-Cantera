{
 "cells": [
  {
   "cell_type": "code",
   "execution_count": 1,
   "metadata": {
    "collapsed": true
   },
   "outputs": [],
   "source": [
    "import pandas as pd"
   ]
  },
  {
   "cell_type": "code",
   "execution_count": 44,
   "metadata": {
    "collapsed": false
   },
   "outputs": [],
   "source": [
    "rxn = pd.read_csv('cti_rxn.txt', header = None)\n",
    "AnE = pd.read_csv('faravelli_rateconstantlist.txt', header = None)\n",
    "AnE_list = AnE.values.tolist()\n",
    "rxn_list = rxn.values.tolist()"
   ]
  },
  {
   "cell_type": "code",
   "execution_count": 102,
   "metadata": {
    "collapsed": false
   },
   "outputs": [
    {
     "data": {
      "text/plain": [
       "list"
      ]
     },
     "execution_count": 102,
     "metadata": {},
     "output_type": "execute_result"
    }
   ],
   "source": [
    "type(AnE_list[0])"
   ]
  },
  {
   "cell_type": "code",
   "execution_count": 113,
   "metadata": {
    "collapsed": false
   },
   "outputs": [
    {
     "data": {
      "text/html": [
       "<div>\n",
       "<table border=\"1\" class=\"dataframe\">\n",
       "  <thead>\n",
       "    <tr style=\"text-align: right;\">\n",
       "      <th></th>\n",
       "      <th>rxn_list</th>\n",
       "    </tr>\n",
       "  </thead>\n",
       "  <tbody>\n",
       "    <tr>\n",
       "      <th>0</th>\n",
       "      <td>reaction('PLIGH =&gt; PRLIGH', ['1*10**8 0 54418-...</td>\n",
       "    </tr>\n",
       "    <tr>\n",
       "      <th>1</th>\n",
       "      <td>reaction('LIGH =&gt; C3H6 + OH + RLIGM2A', ['1*10...</td>\n",
       "    </tr>\n",
       "    <tr>\n",
       "      <th>2</th>\n",
       "      <td>reaction('LIGM2 =&gt; RPHENOXM2 + RADIOM2', ['1*1...</td>\n",
       "    </tr>\n",
       "    <tr>\n",
       "      <th>3</th>\n",
       "      <td>reaction('PLIGM2 =&gt; RPHENOXM2 + PRADIOM2', ['1...</td>\n",
       "    </tr>\n",
       "    <tr>\n",
       "      <th>4</th>\n",
       "      <td>reaction('LIG =&gt; RPHENOX + RADIO', ['1*10**8 0...</td>\n",
       "    </tr>\n",
       "  </tbody>\n",
       "</table>\n",
       "</div>"
      ],
      "text/plain": [
       "                                            rxn_list\n",
       "0  reaction('PLIGH => PRLIGH', ['1*10**8 0 54418-...\n",
       "1  reaction('LIGH => C3H6 + OH + RLIGM2A', ['1*10...\n",
       "2  reaction('LIGM2 => RPHENOXM2 + RADIOM2', ['1*1...\n",
       "3  reaction('PLIGM2 => RPHENOXM2 + PRADIOM2', ['1...\n",
       "4  reaction('LIG => RPHENOX + RADIO', ['1*10**8 0..."
      ]
     },
     "execution_count": 113,
     "metadata": {},
     "output_type": "execute_result"
    }
   ],
   "source": [
    "df = pd.DataFrame()\n",
    "temp_list = []\n",
    "for rxn in rxn_list:\n",
    "    for i in range(406):\n",
    "        content = \"reaction\" + '(' + \"'\" + rxn[0] + \"'\" + ', ' + str(AnE_list[i])+ ')'\n",
    "    temp_list.append(content)\n",
    "        \n",
    "    \n",
    "df['rxn_list'] = temp_list\n",
    "#df['AnE'] = AnE_list\n",
    "df.head()"
   ]
  },
  {
   "cell_type": "code",
   "execution_count": 119,
   "metadata": {
    "collapsed": false
   },
   "outputs": [],
   "source": [
    "reaction_list = []\n",
    "for i in range(406):\n",
    "    reaction_list.append('# Reaction' + str(i+1))\n",
    "\n",
    "#reaction_list = pd.DataFrame(reaction_list)\n",
    "df['rxnnumber'] = reaction_list\n",
    "df = df[['rxnnumber', 'rxn_list']]\n",
    "dff = df.stack().reset_index(level = [0,1], drop=True)"
   ]
  },
  {
   "cell_type": "code",
   "execution_count": 121,
   "metadata": {
    "collapsed": false
   },
   "outputs": [
    {
     "data": {
      "text/plain": [
       "0                                            # Reaction1\n",
       "1      reaction('PLIGH => PRLIGH', ['1*10**8 0 54418-...\n",
       "2                                            # Reaction2\n",
       "3      reaction('LIGH => C3H6 + OH + RLIGM2A', ['1*10...\n",
       "4                                            # Reaction3\n",
       "5      reaction('LIGM2 => RPHENOXM2 + RADIOM2', ['1*1...\n",
       "6                                            # Reaction4\n",
       "7      reaction('PLIGM2 => RPHENOXM2 + PRADIOM2', ['1...\n",
       "8                                            # Reaction5\n",
       "9      reaction('LIG => RPHENOX + RADIO', ['1*10**8 0...\n",
       "10                                           # Reaction6\n",
       "11     reaction('PLIG => RPHENOX + PRADIO', ['1*10**8...\n",
       "12                                           # Reaction7\n",
       "13     reaction('PADIOM2 => PRADIOM2', ['1*10**8 0 54...\n",
       "14                                           # Reaction8\n",
       "15     reaction('PADIO => PRADIO', ['1*10**8 0 54418-...\n",
       "16                                           # Reaction9\n",
       "17     reaction('PKETM2 => PRKETM2', ['1*10**8 0 5441...\n",
       "18                                          # Reaction10\n",
       "19     reaction('PRKETM2 => KETDM2 + OH', ['1*10**8 0...\n",
       "20                                          # Reaction11\n",
       "21     reaction('RPHENOXM2 => CO + 0.5 C10H2M4 + 0.5 ...\n",
       "22                                          # Reaction12\n",
       "23     reaction('RPHENOX => CO + 0.5 C10H2 + 1.5 H2',...\n",
       "24                                          # Reaction13\n",
       "25     reaction('RLIGH => RLIGM2A + ALD3', ['1*10**8 ...\n",
       "26                                          # Reaction14\n",
       "27     reaction('PRLIGH2 => PRLIGM2A + ALD3', ['1*10*...\n",
       "28                                          # Reaction15\n",
       "29     reaction('RADIOM2 => RMGUAI + C3H6O2', ['1*10*...\n",
       "                             ...                        \n",
       "782                                        # Reaction392\n",
       "783    reaction('RLIGM2B + KET => LIGM2 + RKET', ['1*...\n",
       "784                                        # Reaction393\n",
       "785    reaction('RLIGM2A + KET => LIGM2 + RKET', ['1*...\n",
       "786                                        # Reaction394\n",
       "787    reaction('RCH3 + KET => CH4 + RKET', ['1*10**8...\n",
       "788                                        # Reaction395\n",
       "789    reaction('PRKETM2 + KET => PKETM2 + RKET', ['1...\n",
       "790                                        # Reaction396\n",
       "791    reaction('RKET + KET => KET + RKET', ['1*10**8...\n",
       "792                                        # Reaction397\n",
       "793    reaction('PRADIO + KET => PADIO + RKET', ['1*1...\n",
       "794                                        # Reaction398\n",
       "795    reaction('RC3H3O + KET => C3H4O + RKET', ['1*1...\n",
       "796                                        # Reaction399\n",
       "797    reaction('RLIGB + KET => LIG + RKET', ['1*10**...\n",
       "798                                        # Reaction400\n",
       "799    reaction('RLIGA + KET => LIG + RKET', ['1*10**...\n",
       "800                                        # Reaction401\n",
       "801    reaction('PRADIOM2 + KET => PADIOM2 + RKET', [...\n",
       "802                                        # Reaction402\n",
       "803    reaction('RMGUAI + KET => MGUAI + RKET', ['1*1...\n",
       "804                                        # Reaction403\n",
       "805    reaction('OH + KET => H2O + RKET', ['1*10**8 0...\n",
       "806                                        # Reaction404\n",
       "807    reaction('RCH3O + KET => CH3OH + RKET', ['1*10...\n",
       "808                                        # Reaction405\n",
       "809    reaction('RPHENOL + KET => PHENOL + RKET', ['1...\n",
       "810                                        # Reaction406\n",
       "811    reaction('RADIO + KET => ADIO + RKET', ['1*10*...\n",
       "dtype: object"
      ]
     },
     "execution_count": 121,
     "metadata": {},
     "output_type": "execute_result"
    }
   ],
   "source": [
    "dfff = pd.Ddff"
   ]
  },
  {
   "cell_type": "code",
   "execution_count": null,
   "metadata": {
    "collapsed": false
   },
   "outputs": [],
   "source": []
  },
  {
   "cell_type": "code",
   "execution_count": null,
   "metadata": {
    "collapsed": false
   },
   "outputs": [],
   "source": []
  },
  {
   "cell_type": "code",
   "execution_count": null,
   "metadata": {
    "collapsed": true
   },
   "outputs": [],
   "source": []
  },
  {
   "cell_type": "code",
   "execution_count": null,
   "metadata": {
    "collapsed": true
   },
   "outputs": [],
   "source": []
  }
 ],
 "metadata": {
  "anaconda-cloud": {},
  "kernelspec": {
   "display_name": "Python [default]",
   "language": "python",
   "name": "python3"
  },
  "language_info": {
   "codemirror_mode": {
    "name": "ipython",
    "version": 3
   },
   "file_extension": ".py",
   "mimetype": "text/x-python",
   "name": "python",
   "nbconvert_exporter": "python",
   "pygments_lexer": "ipython3",
   "version": "3.5.3"
  }
 },
 "nbformat": 4,
 "nbformat_minor": 2
}
