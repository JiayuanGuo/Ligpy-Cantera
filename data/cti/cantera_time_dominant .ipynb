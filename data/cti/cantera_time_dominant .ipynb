{
 "cells": [
  {
   "cell_type": "code",
   "execution_count": 61,
   "metadata": {
    "scrolled": true
   },
   "outputs": [
    {
     "name": "stdout",
     "output_type": "stream",
     "text": [
      "     t [s]      T [K]     P [Pa]       u [J/kg]\n",
      " 1.000e-05     33.584 101325.002  -7.509018e+03\n",
      " 2.000e-05     32.890 101325.002  -7.509018e+03\n",
      " 3.000e-05     32.570 101325.002  -7.509018e+03\n",
      " 4.000e-05     32.355 101325.002  -7.509018e+03\n",
      " 5.000e-05     32.189 101325.002  -7.509018e+03\n",
      " 6.000e-05     32.051 101325.002  -7.509018e+03\n",
      " 7.000e-05     31.932 101325.002  -7.509018e+03\n",
      " 8.000e-05     31.826 101325.002  -7.509018e+03\n",
      " 9.000e-05     31.730 101325.002  -7.509018e+03\n",
      " 1.000e-04     31.643 101325.002  -7.509018e+03\n",
      " 1.100e-04     31.563 101325.002  -7.509018e+03\n",
      " 1.200e-04     31.488 101325.002  -7.509018e+03\n",
      " 1.300e-04     31.419 101325.002  -7.509018e+03\n",
      " 1.400e-04     31.355 101325.002  -7.509018e+03\n",
      " 1.500e-04     31.294 101325.002  -7.509018e+03\n",
      " 1.600e-04     31.237 101325.002  -7.509018e+03\n",
      " 1.700e-04     31.183 101325.002  -7.509018e+03\n",
      " 1.800e-04     31.132 101325.002  -7.509018e+03\n",
      " 1.900e-04     31.084 101325.002  -7.509018e+03\n",
      " 2.000e-04     31.038 101325.002  -7.509018e+03\n",
      " 2.100e-04     30.995 101325.002  -7.509018e+03\n",
      " 2.200e-04     30.953 101325.002  -7.509018e+03\n",
      " 2.300e-04     30.914 101325.002  -7.509018e+03\n",
      " 2.400e-04     30.876 101325.002  -7.509018e+03\n",
      " 2.500e-04     30.840 101325.002  -7.509018e+03\n",
      " 2.600e-04     30.805 101325.002  -7.509018e+03\n",
      " 2.700e-04     30.772 101325.002  -7.509018e+03\n",
      " 2.800e-04     30.740 101325.002  -7.509018e+03\n",
      " 2.900e-04     30.710 101325.002  -7.509018e+03\n",
      " 3.000e-04     30.680 101325.002  -7.509018e+03\n",
      " 3.100e-04     30.652 101325.002  -7.509018e+03\n",
      " 3.200e-04     30.625 101325.002  -7.509018e+03\n",
      " 3.300e-04     30.599 101325.002  -7.509018e+03\n",
      " 3.400e-04     30.574 101325.002  -7.509018e+03\n",
      " 3.500e-04     30.549 101325.002  -7.509018e+03\n",
      " 3.600e-04     30.526 101325.002  -7.509018e+03\n",
      " 3.700e-04     30.503 101325.002  -7.509018e+03\n",
      " 3.800e-04     30.481 101325.002  -7.509018e+03\n",
      " 3.900e-04     30.460 101325.002  -7.509018e+03\n",
      " 4.000e-04     30.439 101325.002  -7.509018e+03\n",
      " 4.100e-04     30.420 101325.002  -7.509018e+03\n",
      " 4.200e-04     30.400 101325.002  -7.509018e+03\n",
      " 4.300e-04     30.382 101325.002  -7.509018e+03\n",
      " 4.400e-04     30.363 101325.002  -7.509018e+03\n",
      " 4.500e-04     30.346 101325.002  -7.509018e+03\n",
      " 4.600e-04     30.329 101325.002  -7.509018e+03\n",
      " 4.700e-04     30.312 101325.002  -7.509018e+03\n",
      " 4.800e-04     30.296 101325.002  -7.509018e+03\n",
      " 4.900e-04     30.280 101325.002  -7.509018e+03\n",
      " 5.000e-04     30.265 101325.002  -7.509018e+03\n",
      " 5.100e-04     30.250 101325.002  -7.509018e+03\n",
      " 5.200e-04     30.236 101325.002  -7.509018e+03\n",
      " 5.300e-04     30.222 101325.002  -7.509018e+03\n",
      " 5.400e-04     30.208 101325.002  -7.509018e+03\n",
      " 5.500e-04     30.195 101325.002  -7.509018e+03\n",
      " 5.600e-04     30.182 101325.002  -7.509018e+03\n",
      " 5.700e-04     30.169 101325.002  -7.509018e+03\n",
      " 5.800e-04     30.157 101325.002  -7.509018e+03\n",
      " 5.900e-04     30.145 101325.002  -7.509018e+03\n",
      " 6.000e-04     30.133 101325.002  -7.509018e+03\n",
      " 6.100e-04     30.122 101325.002  -7.509018e+03\n",
      " 6.200e-04     30.111 101325.002  -7.509018e+03\n",
      " 6.300e-04     30.100 101325.002  -7.509018e+03\n",
      " 6.400e-04     30.089 101325.002  -7.509018e+03\n",
      " 6.500e-04     30.078 101325.002  -7.509018e+03\n",
      " 6.600e-04     30.068 101325.002  -7.509018e+03\n",
      " 6.700e-04     30.058 101325.002  -7.509018e+03\n",
      " 6.800e-04     30.049 101325.002  -7.509018e+03\n",
      " 6.900e-04     30.039 101325.002  -7.509018e+03\n",
      " 7.000e-04     30.030 101325.002  -7.509018e+03\n",
      " 7.100e-04     30.020 101325.002  -7.509018e+03\n",
      " 7.200e-04     30.012 101325.002  -7.509018e+03\n",
      " 7.300e-04     30.003 101325.002  -7.509018e+03\n",
      " 7.400e-04     29.994 101325.002  -7.509018e+03\n",
      " 7.500e-04     29.986 101325.002  -7.509018e+03\n",
      " 7.600e-04     29.977 101325.002  -7.509018e+03\n",
      " 7.700e-04     29.969 101325.002  -7.509018e+03\n",
      " 7.800e-04     29.961 101325.002  -7.509018e+03\n",
      " 7.900e-04     29.954 101325.002  -7.509018e+03\n",
      " 8.000e-04     29.946 101325.002  -7.509018e+03\n",
      " 8.100e-04     29.939 101325.002  -7.509018e+03\n",
      " 8.200e-04     29.931 101325.002  -7.509018e+03\n",
      " 8.300e-04     29.924 101325.002  -7.509018e+03\n",
      " 8.400e-04     29.917 101325.002  -7.509018e+03\n",
      " 8.500e-04     29.910 101325.002  -7.509018e+03\n",
      " 8.600e-04     29.903 101325.002  -7.509018e+03\n",
      " 8.700e-04     29.897 101325.002  -7.509018e+03\n",
      " 8.800e-04     29.890 101325.002  -7.509018e+03\n",
      " 8.900e-04     29.884 101325.002  -7.509018e+03\n",
      " 9.000e-04     29.877 101325.002  -7.509018e+03\n",
      " 9.100e-04     29.871 101325.002  -7.509018e+03\n",
      " 9.200e-04     29.865 101325.002  -7.509018e+03\n",
      " 9.300e-04     29.859 101325.002  -7.509018e+03\n",
      " 9.400e-04     29.853 101325.002  -7.509018e+03\n",
      " 9.500e-04     29.847 101325.002  -7.509018e+03\n",
      " 9.600e-04     29.842 101325.002  -7.509018e+03\n",
      " 9.700e-04     29.836 101325.002  -7.509018e+03\n",
      " 9.800e-04     29.830 101325.002  -7.509018e+03\n",
      " 9.900e-04     29.825 101325.002  -7.509018e+03\n",
      " 1.000e-03     29.820 101325.002  -7.509018e+03\n"
     ]
    },
    {
     "data": {
      "image/png": "[encoded data removed]",
      "text/plain": [
       "<matplotlib.figure.Figure at 0x10ee01550>"
      ]
     },
     "metadata": {},
     "output_type": "display_data"
    }
   ],
   "source": [
    "\"\"\"\n",
    "Constant-pressure, adiabatic kinetics simulation.\n",
    "\"\"\"\n",
    "\n",
    "import sys\n",
    "import numpy as np\n",
    "\n",
    "import cantera as ct\n",
    "\n",
    "gas = ct.Solution('cti_one.cti')\n",
    "gas.TPX = 300, 101325, 'PLIGC:1.7, PLIGH:0.26, PLIGO:0.3'\n",
    "r = ct.IdealGasReactor(gas)\n",
    "\n",
    "sim = ct.ReactorNet([r])\n",
    "time = 0.0\n",
    "states = ct.SolutionArray(gas, extra=['t'])\n",
    "\n",
    "print('%10s %10s %10s %14s' % ('t [s]','T [K]','P [Pa]','u [J/kg]'))\n",
    "for n in range(100):\n",
    "    time += 1.e-5\n",
    "    sim.advance(time)\n",
    "    states.append(r.thermo.state, t=time*1e3)\n",
    "    print('%10.3e %10.3f %10.3f %14.6e' % (sim.time, r.T,\n",
    "                                           r.thermo.P, r.thermo.u))\n",
    "\n",
    "\n",
    "import matplotlib.pyplot as plt\n",
    "plt.clf()\n",
    "plt.subplot(2, 2, 1)\n",
    "plt.plot(states.t, states.T)\n",
    "plt.xlabel('Time (ms)')\n",
    "plt.ylabel('Temperature (K)')\n",
    "plt.subplot(2, 2, 2)\n",
    "plt.plot(states.t, states.X[:,gas.species_index('PLIGC')])\n",
    "plt.xlabel('Time (ms)')\n",
    "plt.ylabel('PLIGC Mole Fraction')\n",
    "plt.subplot(2, 2, 3)\n",
    "plt.plot(states.t, states.X[:,gas.species_index('PLIGH')])\n",
    "plt.xlabel('Time (ms)')\n",
    "plt.ylabel('PLIGH Mole Fraction')\n",
    "plt.subplot(2, 2, 4)\n",
    "plt.plot(states.t, states.X[:,gas.species_index('PLIGO')])\n",
    "plt.xlabel('Time (ms)')\n",
    "plt.ylabel('PLIGO Mole Fraction')\n",
    "plt.tight_layout()\n",
    "plt.show()\n"
   ]
  },
  {
   "cell_type": "code",
   "execution_count": 35,
   "metadata": {
    "collapsed": true
   },
   "outputs": [],
   "source": []
  },
  {
   "cell_type": "code",
   "execution_count": 38,
   "metadata": {},
   "outputs": [
    {
     "data": {
      "image/png": "[encoded data removed]",
      "text/plain": [
       "<matplotlib.figure.Figure at 0x10c6db320>"
      ]
     },
     "metadata": {},
     "output_type": "display_data"
    }
   ],
   "source": []
  },
  {
   "cell_type": "code",
   "execution_count": null,
   "metadata": {
    "collapsed": true
   },
   "outputs": [],
   "source": []
  }
 ],
 "metadata": {
  "kernelspec": {
   "display_name": "Python 3",
   "language": "python",
   "name": "python3"
  },
  "language_info": {
   "codemirror_mode": {
    "name": "ipython",
    "version": 3
   },
   "file_extension": ".py",
   "mimetype": "text/x-python",
   "name": "python",
   "nbconvert_exporter": "python",
   "pygments_lexer": "ipython3",
   "version": "3.6.0"
  }
 },
 "nbformat": 4,
 "nbformat_minor": 2
}
