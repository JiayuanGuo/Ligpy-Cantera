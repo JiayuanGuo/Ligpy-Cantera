{
 "cells": [
  {
   "cell_type": "code",
   "execution_count": 10,
   "metadata": {
    "collapsed": true
   },
   "outputs": [],
   "source": [
    "import pandas as pd\n",
    "import numpy as np\n",
    "import matplotlib.pyplot as plt"
   ]
  },
  {
   "cell_type": "code",
   "execution_count": 2,
   "metadata": {
    "collapsed": true
   },
   "outputs": [],
   "source": [
    "#Ci_hat\n",
    "b_hat = np.array([  1.75925926e+02,   7.73150000e+02,   1.00000000e-15,\n",
    "         1.00000000e-15,   3.96827375e-01,   5.39485800e-04,\n",
    "         3.74461120e-03,   2.71663741e-02,   2.07197654e-02,\n",
    "         1.22696030e-03,   1.78450324e-01,   5.23592747e-02,\n",
    "         1.77942174e-02,   2.09681110e-03,   1.41697136e+00,\n",
    "         2.51866656e-01,   7.68701396e-01,   8.05896850e-03,\n",
    "         1.56715721e+00,   9.64409736e-02,   4.64418586e-01,\n",
    "         6.79502120e-03,   5.08356889e-02,   3.02556236e+00,\n",
    "         2.42787869e+00,   3.32000000e-08,   5.96479317e-01,\n",
    "         2.76075145e-02,   1.00000000e-15,   3.32000000e-08,\n",
    "         2.47643400e-04,   1.00000000e-15,   1.00000000e-15,\n",
    "         1.00000000e-15,   1.18310167e-02,   4.54900000e-07,\n",
    "         1.10623050e-03,   6.16317800e-04,   9.09904484e-01,\n",
    "         1.00000000e-15,   2.08547008e-01,   1.07000000e-08,\n",
    "         3.96000000e-07,   1.00000000e-15,   1.53411103e-01,\n",
    "         1.85988254e+00,   1.00000000e-15,   2.58017577e+00,\n",
    "         1.66000000e-08,   1.00000000e-15,   2.60149954e+00,\n",
    "         4.53461858e-02,   1.00000000e-15,   4.20000000e-09,\n",
    "         1.00000000e-15,   1.00000000e-15,   1.00000000e-15,\n",
    "         1.00000000e-15,   4.48634690e-03,   1.45561060e-03,\n",
    "         1.68000000e-08,   1.00000000e-15,   1.00000000e-15,\n",
    "         1.00000000e-15,   1.00000000e-15,   1.00000000e-15,\n",
    "         1.00000000e-15,   1.00000000e-15,   1.38909000e-05,\n",
    "         6.40000000e-09,   1.00000000e-15,   2.02020000e-06,\n",
    "         2.16185000e-05,   1.12000000e-08,   1.00000000e-15,\n",
    "         1.68000000e-08,   8.36500000e-07,   1.00000000e-15,\n",
    "         1.00000000e-15,   1.00000000e-15,   1.00000000e-15,\n",
    "         6.73587000e-05,   1.65876330e-03,   1.00000000e-15,\n",
    "         1.74843084e-02,   1.04760000e-06,   5.04354700e-04,\n",
    "         2.18649600e-04,   1.08214560e-03,   1.80157693e-02,\n",
    "         2.61081686e-01,   3.59538000e-05,   7.34225260e-03,\n",
    "         9.99732327e-02,   4.56204036e-02])"
   ]
  },
  {
   "cell_type": "code",
   "execution_count": 15,
   "metadata": {
    "collapsed": false
   },
   "outputs": [
    {
     "data": {
      "text/plain": [
       "[-4.7597664030185573e-12,\n",
       " -4.7597664030185573e-12,\n",
       " -4.7597664030185573e-12,\n",
       " -5.3317540701836663e-12,\n",
       " -5.3317540701836663e-12,\n",
       " -5.3317540701836663e-12,\n",
       " -5.3317540701836663e-12,\n",
       " -5.3317540701836663e-12,\n",
       " -5.3317540701836663e-12,\n",
       " -4.3508369148912155e-12,\n",
       " -5.3317540701836663e-12,\n",
       " -5.3317540701836663e-12,\n",
       " -4.7597664030185573e-12,\n",
       " 5.3093930301412571e-12,\n",
       " -4.3508369148912155e-12,\n",
       " 5.469071626108588e-12]"
      ]
     },
     "execution_count": 15,
     "metadata": {},
     "output_type": "execute_result"
    }
   ],
   "source": [
    "point_list = [4e-15,7e-15,1.75e-14,2.5e-14,3.25e-14,4e-14,4.75e-14,5e-14,5.25e-14,5.5e-14,5.75e-14,6e-14,6.25e-14,6.5e-14,6.75e-14,7e-14]\n",
    "error_value = []\n",
    "for item in point_list:\n",
    "    a = np.genfromtxt('sol_check_ab={}.dat'.format(item))\n",
    "    b = a[len(a)-2]\n",
    "    b[b == 0] =1e-15\n",
    "    difference = (b - b_hat)/(b_hat*94)\n",
    "    error = np.sum(difference)\n",
    "    error_value.append(error)\n",
    "error_value"
   ]
  },
  {
   "cell_type": "code",
   "execution_count": 16,
   "metadata": {
    "collapsed": true
   },
   "outputs": [],
   "source": [
    "plt_err = pd.DataFrame(columns=['abs_err','err'])"
   ]
  },
  {
   "cell_type": "code",
   "execution_count": 17,
   "metadata": {
    "collapsed": true
   },
   "outputs": [],
   "source": [
    "plt_err.abs_err = point_list\n",
    "plt_err.err = error_value"
   ]
  },
  {
   "cell_type": "code",
   "execution_count": 18,
   "metadata": {
    "collapsed": false
   },
   "outputs": [
    {
     "data": {
      "text/html": [
       "<div>\n",
       "<table border=\"1\" class=\"dataframe\">\n",
       "  <thead>\n",
       "    <tr style=\"text-align: right;\">\n",
       "      <th></th>\n",
       "      <th>abs_err</th>\n",
       "      <th>err</th>\n",
       "    </tr>\n",
       "  </thead>\n",
       "  <tbody>\n",
       "    <tr>\n",
       "      <th>0</th>\n",
       "      <td>4.000000e-15</td>\n",
       "      <td>-4.759766e-12</td>\n",
       "    </tr>\n",
       "    <tr>\n",
       "      <th>1</th>\n",
       "      <td>7.000000e-15</td>\n",
       "      <td>-4.759766e-12</td>\n",
       "    </tr>\n",
       "    <tr>\n",
       "      <th>2</th>\n",
       "      <td>1.750000e-14</td>\n",
       "      <td>-4.759766e-12</td>\n",
       "    </tr>\n",
       "    <tr>\n",
       "      <th>3</th>\n",
       "      <td>2.500000e-14</td>\n",
       "      <td>-5.331754e-12</td>\n",
       "    </tr>\n",
       "    <tr>\n",
       "      <th>4</th>\n",
       "      <td>3.250000e-14</td>\n",
       "      <td>-5.331754e-12</td>\n",
       "    </tr>\n",
       "    <tr>\n",
       "      <th>5</th>\n",
       "      <td>4.000000e-14</td>\n",
       "      <td>-5.331754e-12</td>\n",
       "    </tr>\n",
       "    <tr>\n",
       "      <th>6</th>\n",
       "      <td>4.750000e-14</td>\n",
       "      <td>-5.331754e-12</td>\n",
       "    </tr>\n",
       "    <tr>\n",
       "      <th>7</th>\n",
       "      <td>5.000000e-14</td>\n",
       "      <td>-5.331754e-12</td>\n",
       "    </tr>\n",
       "    <tr>\n",
       "      <th>8</th>\n",
       "      <td>5.250000e-14</td>\n",
       "      <td>-5.331754e-12</td>\n",
       "    </tr>\n",
       "    <tr>\n",
       "      <th>9</th>\n",
       "      <td>5.500000e-14</td>\n",
       "      <td>-4.350837e-12</td>\n",
       "    </tr>\n",
       "    <tr>\n",
       "      <th>10</th>\n",
       "      <td>5.750000e-14</td>\n",
       "      <td>-5.331754e-12</td>\n",
       "    </tr>\n",
       "    <tr>\n",
       "      <th>11</th>\n",
       "      <td>6.000000e-14</td>\n",
       "      <td>-5.331754e-12</td>\n",
       "    </tr>\n",
       "    <tr>\n",
       "      <th>12</th>\n",
       "      <td>6.250000e-14</td>\n",
       "      <td>-4.759766e-12</td>\n",
       "    </tr>\n",
       "    <tr>\n",
       "      <th>13</th>\n",
       "      <td>6.500000e-14</td>\n",
       "      <td>5.309393e-12</td>\n",
       "    </tr>\n",
       "    <tr>\n",
       "      <th>14</th>\n",
       "      <td>6.750000e-14</td>\n",
       "      <td>-4.350837e-12</td>\n",
       "    </tr>\n",
       "    <tr>\n",
       "      <th>15</th>\n",
       "      <td>7.000000e-14</td>\n",
       "      <td>5.469072e-12</td>\n",
       "    </tr>\n",
       "  </tbody>\n",
       "</table>\n",
       "</div>"
      ],
      "text/plain": [
       "         abs_err           err\n",
       "0   4.000000e-15 -4.759766e-12\n",
       "1   7.000000e-15 -4.759766e-12\n",
       "2   1.750000e-14 -4.759766e-12\n",
       "3   2.500000e-14 -5.331754e-12\n",
       "4   3.250000e-14 -5.331754e-12\n",
       "5   4.000000e-14 -5.331754e-12\n",
       "6   4.750000e-14 -5.331754e-12\n",
       "7   5.000000e-14 -5.331754e-12\n",
       "8   5.250000e-14 -5.331754e-12\n",
       "9   5.500000e-14 -4.350837e-12\n",
       "10  5.750000e-14 -5.331754e-12\n",
       "11  6.000000e-14 -5.331754e-12\n",
       "12  6.250000e-14 -4.759766e-12\n",
       "13  6.500000e-14  5.309393e-12\n",
       "14  6.750000e-14 -4.350837e-12\n",
       "15  7.000000e-14  5.469072e-12"
      ]
     },
     "execution_count": 18,
     "metadata": {},
     "output_type": "execute_result"
    }
   ],
   "source": [
    "plt_err"
   ]
  },
  {
   "cell_type": "code",
   "execution_count": 19,
   "metadata": {
    "collapsed": false
   },
   "outputs": [
    {
     "data": {
      "image/png": "[encoded data removed]",
      "text/plain": [
       "<matplotlib.figure.Figure at 0x1c8c22a1898>"
      ]
     },
     "metadata": {},
     "output_type": "display_data"
    }
   ],
   "source": [
    "plt.plot(plt_err.abs_err,plt_err.err,'o')\n",
    "plt.xlabel('abserror')\n",
    "plt.ylabel('error')\n",
    "plt.show()"
   ]
  },
  {
   "cell_type": "code",
   "execution_count": null,
   "metadata": {
    "collapsed": true
   },
   "outputs": [],
   "source": []
  }
 ],
 "metadata": {
  "anaconda-cloud": {},
  "kernelspec": {
   "display_name": "Python [default]",
   "language": "python",
   "name": "python3"
  },
  "language_info": {
   "codemirror_mode": {
    "name": "ipython",
    "version": 3
   },
   "file_extension": ".py",
   "mimetype": "text/x-python",
   "name": "python",
   "nbconvert_exporter": "python",
   "pygments_lexer": "ipython3",
   "version": "3.5.2"
  }
 },
 "nbformat": 4,
 "nbformat_minor": 2
}
