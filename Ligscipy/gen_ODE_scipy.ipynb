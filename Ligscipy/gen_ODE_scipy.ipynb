{
 "cells": [
  {
   "cell_type": "code",
   "execution_count": 1,
   "metadata": {
    "collapsed": true
   },
   "outputs": [],
   "source": [
    "import ligpy_utils as lig"
   ]
  },
  {
   "cell_type": "code",
   "execution_count": 2,
   "metadata": {
    "collapsed": true
   },
   "outputs": [],
   "source": [
    "T = 300"
   ]
  },
  {
   "cell_type": "code",
   "execution_count": 3,
   "metadata": {
    "collapsed": false
   },
   "outputs": [],
   "source": [
    "reactionlist, rateconstantlist, compositionlist = lig.set_paths()\n",
    "y_list = lig.get_specieslist(reactionlist)"
   ]
  },
  {
   "cell_type": "code",
   "execution_count": 4,
   "metadata": {
    "collapsed": false
   },
   "outputs": [],
   "source": [
    "speciesindices, indices_to_species = lig.get_speciesindices(y_list)\n",
    "rate_list = lig.build_rates_list(rateconstantlist, reactionlist, speciesindices, indices_to_species, T)\n",
    "species_rxns = lig.build_species_rxns_dict(reactionlist)\n",
    "dydt_expressions = lig.build_dydt_list(rate_list, y_list, species_rxns)\n",
    "kmatrix = lig.build_k_matrix(rateconstantlist)\n",
    "kvaluelist = lig.get_k_value_list(T, kmatrix)"
   ]
  },
  {
   "cell_type": "code",
   "execution_count": 8,
   "metadata": {
    "collapsed": false
   },
   "outputs": [],
   "source": [
    "with open('solve_ODEs_T%s.py' %T, 'w') as f:\n",
    "    text = \"#!/usr/bin/pythons\\n\" \\\n",
    "            \"# -*- coding: utf-8 -*-\\n\\n\" \\\n",
    "            \"from scipy.integrate import odeint\\n\\n\\n\" \\\n",
    "            \"def ODEs(y, t, p):\\n\"\n",
    "    f.write(text)\n",
    "    \n",
    "    y = '\\t' + y_list[0]\n",
    "    for i in y_list[1:]:\n",
    "        y += (', ' + i)\n",
    "    y += ' = y'\n",
    "    f.write(y + '\\n')\n",
    "    \n",
    "    p = '\\tk_%s_0' %T\n",
    "    for i in range(1, len(kvaluelist)):\n",
    "        p += ', k_%s_%s' %(T, i)\n",
    "    p += ' = p'\n",
    "    f.write(p + '\\n')\n",
    "    \n",
    "    dydt = '\\tdydt = [%s' %dydt_expressions[0].split('=')[1][1:-2]\n",
    "    for ODE in dydt_expressions[1:]:\n",
    "        dydt += (', \\n\\t\\t\\t' + ODE.split('=')[1][1:-2])\n",
    "    dydt += ']'\n",
    "    f.write(dydt + '\\n')\n",
    "    \n",
    "    f.write('\\treturn dydt\\n\\n')\n",
    "    f.write('# k values\\n')\n",
    "    for i in range(len(kvaluelist)):\n",
    "        f.write('k_%s_%s = %s\\n' %(T, i, kvaluelist[i]))"
   ]
  },
  {
   "cell_type": "code",
   "execution_count": null,
   "metadata": {
    "collapsed": true
   },
   "outputs": [],
   "source": []
  }
 ],
 "metadata": {
  "anaconda-cloud": {},
  "kernelspec": {
   "display_name": "Python [default]",
   "language": "python",
   "name": "python3"
  },
  "language_info": {
   "codemirror_mode": {
    "name": "ipython",
    "version": 3
   },
   "file_extension": ".py",
   "mimetype": "text/x-python",
   "name": "python",
   "nbconvert_exporter": "python",
   "pygments_lexer": "ipython3",
   "version": "3.5.2"
  }
 },
 "nbformat": 4,
 "nbformat_minor": 2
}
