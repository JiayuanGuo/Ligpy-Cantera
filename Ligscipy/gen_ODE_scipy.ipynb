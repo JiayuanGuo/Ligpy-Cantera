{
 "cells": [
  {
   "cell_type": "code",
   "execution_count": 8,
   "metadata": {
    "collapsed": true
   },
   "outputs": [],
   "source": [
    "import ligpy_utils as lig\n",
    "import constants as const"
   ]
  },
  {
   "cell_type": "code",
   "execution_count": 9,
   "metadata": {
    "collapsed": true
   },
   "outputs": [],
   "source": [
    "T = 300\n",
    "species_IC = 'Pseudotsuga_menziesii'"
   ]
  },
  {
   "cell_type": "code",
   "execution_count": 10,
   "metadata": {
    "collapsed": false
   },
   "outputs": [],
   "source": [
    "reactionlist, rateconstantlist, compositionlist = lig.set_paths()\n",
    "y_list = lig.get_specieslist(reactionlist)"
   ]
  },
  {
   "cell_type": "code",
   "execution_count": 11,
   "metadata": {
    "collapsed": false
   },
   "outputs": [],
   "source": [
    "speciesindices, indices_to_species = lig.get_speciesindices(y_list)\n",
    "rate_list = lig.build_rates_list(rateconstantlist, reactionlist, speciesindices, indices_to_species, T)\n",
    "species_rxns = lig.build_species_rxns_dict(reactionlist)\n",
    "dydt_expressions = lig.build_dydt_list(rate_list, y_list, species_rxns)\n",
    "kmatrix = lig.build_k_matrix(rateconstantlist)\n",
    "kvaluelist = lig.get_k_value_list(T, kmatrix)\n",
    "PLIGC_0, PLIGH_0, PLIGO_0 = lig.define_initial_composition(compositionlist, species_IC)"
   ]
  },
  {
   "cell_type": "code",
   "execution_count": 22,
   "metadata": {
    "collapsed": false
   },
   "outputs": [],
   "source": [
    "with open('solve_ODEs_T%s.py' %T, 'w') as f:\n",
    "    text = \"#!/usr/bin/pythons\\n\" \\\n",
    "            \"# -*- coding: utf-8 -*-\\n\\n\" \\\n",
    "            \"from scipy.integrate import odeint\\n\\n\\n\" \\\n",
    "            \"def ODEs(y, t, p):\\n\"\n",
    "    f.write(text)\n",
    "    \n",
    "    y = '\\t' + y_list[0]\n",
    "    for i in y_list[1:]:\n",
    "        y += (', ' + i)\n",
    "    y += ' = y'\n",
    "    f.write(y + '\\n')\n",
    "    \n",
    "    p = '\\tk_%s_0' %T\n",
    "    for i in range(1, len(kvaluelist)):\n",
    "        p += ', k_%s_%s' %(T, i)\n",
    "    p += ' = p'\n",
    "    f.write(p + '\\n')\n",
    "    \n",
    "    dydt = '\\tdydt = [%s' %dydt_expressions[0].split('=')[1][1:-2]\n",
    "    for ODE in dydt_expressions[1:]:\n",
    "        dydt += (', \\n\\t\\t\\t' + ODE.split('=')[1][1:-2])\n",
    "    dydt += ']'\n",
    "    f.write(dydt + '\\n')\n",
    "    \n",
    "    f.write('\\treturn dydt\\n\\n')\n",
    "    f.write('# k values\\n')\n",
    "    for i in range(len(kvaluelist)):\n",
    "        f.write('k_%s_%s = %s\\n' %(T, i, kvaluelist[i]))\n",
    "        \n",
    "    f.write('\\n# Initial conditions\\n')\n",
    "    f.write('PLIGC = %s\\nPLIGH = %s\\nPLIGO = %s\\n' %(PLIGC_0, PLIGH_0, PLIGO_0))\n",
    "    IC = ''\n",
    "    for i in y_list:\n",
    "        if i == 'PLIGC' or i == 'PLIGH' or i == 'PLIGO':\n",
    "            continue\n",
    "        else:\n",
    "            IC += ('%s = ' %i)\n",
    "    IC += '0'\n",
    "    f.write(IC + '\\n\\n')\n",
    "    \n",
    "    f.write('# ODE solver parameters\\n')\n",
    "    f.write('abserr = %s\\n' %const.ABSOLUTE_TOLERANCE)\n",
    "    f.write('relerr = %s\\n' %const.RELATIVE_TOLERANCE)\n",
    "    f.write('stoptime = 2000\\n')\n",
    "    f.write('numpoints = 10000\\n\\n')\n",
    "    \n",
    "    f.write('t = [stoptime * float(i) / (numpoints - 1) for i in range(numpoints)]\\n')\n",
    "    y0 = 'y0 = [' + y_list[0]\n",
    "    for spec in y_list[1:]:\n",
    "        y0 += ', %s' %spec\n",
    "    y0 += ']'\n",
    "    f.write(y0)\n",
    "    \n",
    "    p = '\\np = [k_%s_0' %T\n",
    "    for i in range(1, len(kvaluelist)):\n",
    "        p += ', k_%s_%s' %(T, i)\n",
    "    p += ']\\n'\n",
    "    f.write(p)\n",
    "    \n",
    "    f.write('\\nsol = odeint(ODEs, y0, t, args=(p,), atol=abserr, rtol=relerr)\\n\\n')\n",
    "    \n",
    "    f.write(\"with open('sol_T%s_%s.dat', 'w') as f:\\n\" %(T, species_IC))\n",
    "    \n",
    "    ysol = ''\n",
    "    for i in range(len(y_list)):\n",
    "        ysol += 'yy[%s], ' %i\n",
    "    f.write('\\tfor tt, yy in zip(t, ysol):\\n')\n",
    "    f.write('\\t\\tprint(tt, %sfile=f)\\n' %ysol)"
   ]
  },
  {
   "cell_type": "code",
   "execution_count": 6,
   "metadata": {
    "collapsed": false
   },
   "outputs": [
    {
     "data": {
      "text/plain": [
       "'y0 = [ADIO, ADIOM2, ALD3, C10H2, C10H2M2, C10H2M4, C2H6, C3H4O, C3H4O2, C3H6, C3H6O2, C3H8O2, CH2CO, CH3CHO, CH3OH, CH4, CHAR, CO, CO2, COUMARYL, ETOH, H2, H2O, KET, KETD, KETDM2, KETM2, LIG, LIGC, LIGH, LIGM2, LIGO, MGUAI, OH, PADIO, PADIOM2, PC2H2, PCH2OH, PCH2P, PCH3, PCHO, PCHOHP, PCHP2, PCOH, PCOHP2, PCOS, PFET3, PFET3M2, PH2, PHENOL, PKETM2, PLIG, PLIGC, PLIGH, PLIGM2, PLIGO, PRADIO, PRADIOM2, PRFET3, PRFET3M2, PRKETM2, PRLIGH, PRLIGH2, PRLIGM2A, RADIO, RADIOM2, RC3H3O, RC3H5O2, RC3H7O2, RCH3, RCH3O, RKET, RKETM2, RLIGA, RLIGB, RLIGH, RLIGM2A, RLIGM2B, RMGUAI, RPHENOL, RPHENOX, RPHENOXM2, SYNAPYL, VADIO, VADIOM2, VCOUMARYL, VKET, VKETD, VKETDM2, VKETM2, VMGUAI, VPHENOL, VSYNAPYL]'"
      ]
     },
     "execution_count": 6,
     "metadata": {},
     "output_type": "execute_result"
    }
   ],
   "source": [
    "y0"
   ]
  },
  {
   "cell_type": "code",
   "execution_count": 18,
   "metadata": {
    "collapsed": false
   },
   "outputs": [
    {
     "data": {
      "text/plain": [
       "'yy[0], yy[1], yy[2], yy[3], yy[4], yy[5], yy[6], yy[7], yy[8], yy[9], yy[10], yy[11], yy[12], yy[13], yy[14], yy[15], yy[16], yy[17], yy[18], yy[19], yy[20], yy[21], yy[22], yy[23], yy[24], yy[25], yy[26], yy[27], yy[28], yy[29], yy[30], yy[31], yy[32], yy[33], yy[34], yy[35], yy[36], yy[37], yy[38], yy[39], yy[40], yy[41], yy[42], yy[43], yy[44], yy[45], yy[46], yy[47], yy[48], yy[49], yy[50], yy[51], yy[52], yy[53], yy[54], yy[55], yy[56], yy[57], yy[58], yy[59], yy[60], yy[61], yy[62], yy[63], yy[64], yy[65], yy[66], yy[67], yy[68], yy[69], yy[70], yy[71], yy[72], yy[73], yy[74], yy[75], yy[76], yy[77], yy[78], yy[79], yy[80], yy[81], yy[82], yy[83], yy[84], yy[85], yy[86], yy[87], yy[88], yy[89], yy[90], yy[91], yy[92], '"
      ]
     },
     "execution_count": 18,
     "metadata": {},
     "output_type": "execute_result"
    }
   ],
   "source": [
    "ysol"
   ]
  },
  {
   "cell_type": "code",
   "execution_count": 20,
   "metadata": {
    "collapsed": false
   },
   "outputs": [
    {
     "data": {
      "text/plain": [
       "'\\tk_300_0, k_300_1, k_300_2, k_300_3, k_300_4, k_300_5, k_300_6, k_300_7, k_300_8, k_300_9, k_300_10, k_300_11, k_300_12, k_300_13, k_300_14, k_300_15, k_300_16, k_300_17, k_300_18, k_300_19, k_300_20, k_300_21, k_300_22, k_300_23, k_300_24, k_300_25, k_300_26, k_300_27, k_300_28, k_300_29, k_300_30, k_300_31, k_300_32, k_300_33, k_300_34, k_300_35, k_300_36, k_300_37, k_300_38, k_300_39, k_300_40, k_300_41, k_300_42, k_300_43, k_300_44, k_300_45, k_300_46, k_300_47, k_300_48, k_300_49, k_300_50, k_300_51, k_300_52, k_300_53, k_300_54, k_300_55, k_300_56, k_300_57, k_300_58, k_300_59, k_300_60, k_300_61, k_300_62, k_300_63, k_300_64, k_300_65, k_300_66, k_300_67, k_300_68, k_300_69, k_300_70, k_300_71, k_300_72, k_300_73, k_300_74, k_300_75, k_300_76, k_300_77, k_300_78, k_300_79, k_300_80, k_300_81, k_300_82, k_300_83, k_300_84, k_300_85, k_300_86, k_300_87, k_300_88, k_300_89, k_300_90, k_300_91, k_300_92, k_300_93, k_300_94, k_300_95, k_300_96, k_300_97, k_300_98, k_300_99, k_300_100, k_300_101, k_300_102, k_300_103, k_300_104, k_300_105, k_300_106, k_300_107, k_300_108, k_300_109, k_300_110, k_300_111, k_300_112, k_300_113, k_300_114, k_300_115, k_300_116, k_300_117, k_300_118, k_300_119, k_300_120, k_300_121, k_300_122, k_300_123, k_300_124, k_300_125, k_300_126, k_300_127, k_300_128, k_300_129, k_300_130, k_300_131, k_300_132, k_300_133, k_300_134, k_300_135, k_300_136, k_300_137, k_300_138, k_300_139, k_300_140, k_300_141, k_300_142, k_300_143, k_300_144, k_300_145, k_300_146, k_300_147, k_300_148, k_300_149, k_300_150, k_300_151, k_300_152, k_300_153, k_300_154, k_300_155, k_300_156, k_300_157, k_300_158, k_300_159, k_300_160, k_300_161, k_300_162, k_300_163, k_300_164, k_300_165, k_300_166, k_300_167, k_300_168, k_300_169, k_300_170, k_300_171, k_300_172, k_300_173, k_300_174, k_300_175, k_300_176, k_300_177, k_300_178, k_300_179, k_300_180, k_300_181, k_300_182, k_300_183, k_300_184, k_300_185, k_300_186, k_300_187, k_300_188, k_300_189, k_300_190, k_300_191, k_300_192, k_300_193, k_300_194, k_300_195, k_300_196, k_300_197, k_300_198, k_300_199, k_300_200, k_300_201, k_300_202, k_300_203, k_300_204, k_300_205, k_300_206, k_300_207, k_300_208, k_300_209, k_300_210, k_300_211, k_300_212, k_300_213, k_300_214, k_300_215, k_300_216, k_300_217, k_300_218, k_300_219, k_300_220, k_300_221, k_300_222, k_300_223, k_300_224, k_300_225, k_300_226, k_300_227, k_300_228, k_300_229, k_300_230, k_300_231, k_300_232, k_300_233, k_300_234, k_300_235, k_300_236, k_300_237, k_300_238, k_300_239, k_300_240, k_300_241, k_300_242, k_300_243, k_300_244, k_300_245, k_300_246, k_300_247, k_300_248, k_300_249, k_300_250, k_300_251, k_300_252, k_300_253, k_300_254, k_300_255, k_300_256, k_300_257, k_300_258, k_300_259, k_300_260, k_300_261, k_300_262, k_300_263, k_300_264, k_300_265, k_300_266, k_300_267, k_300_268, k_300_269, k_300_270, k_300_271, k_300_272, k_300_273, k_300_274, k_300_275, k_300_276, k_300_277, k_300_278, k_300_279, k_300_280, k_300_281, k_300_282, k_300_283, k_300_284, k_300_285, k_300_286, k_300_287, k_300_288, k_300_289, k_300_290, k_300_291, k_300_292, k_300_293, k_300_294, k_300_295, k_300_296, k_300_297, k_300_298, k_300_299, k_300_300, k_300_301, k_300_302, k_300_303, k_300_304, k_300_305, k_300_306, k_300_307, k_300_308, k_300_309, k_300_310, k_300_311, k_300_312, k_300_313, k_300_314, k_300_315, k_300_316, k_300_317, k_300_318, k_300_319, k_300_320, k_300_321, k_300_322, k_300_323, k_300_324, k_300_325, k_300_326, k_300_327, k_300_328, k_300_329, k_300_330, k_300_331, k_300_332, k_300_333, k_300_334, k_300_335, k_300_336, k_300_337, k_300_338, k_300_339, k_300_340, k_300_341, k_300_342, k_300_343, k_300_344, k_300_345, k_300_346, k_300_347, k_300_348, k_300_349, k_300_350, k_300_351, k_300_352, k_300_353, k_300_354, k_300_355, k_300_356, k_300_357, k_300_358, k_300_359, k_300_360, k_300_361, k_300_362, k_300_363, k_300_364, k_300_365, k_300_366, k_300_367, k_300_368, k_300_369, k_300_370, k_300_371, k_300_372, k_300_373, k_300_374, k_300_375, k_300_376, k_300_377, k_300_378, k_300_379, k_300_380, k_300_381, k_300_382, k_300_383, k_300_384, k_300_385, k_300_386, k_300_387, k_300_388, k_300_389, k_300_390, k_300_391, k_300_392, k_300_393, k_300_394, k_300_395, k_300_396, k_300_397, k_300_398, k_300_399, k_300_400, k_300_401, k_300_402, k_300_403, k_300_404, k_300_405 = p'"
      ]
     },
     "execution_count": 20,
     "metadata": {},
     "output_type": "execute_result"
    }
   ],
   "source": [
    "p"
   ]
  },
  {
   "cell_type": "code",
   "execution_count": null,
   "metadata": {
    "collapsed": false
   },
   "outputs": [],
   "source": [
    "b"
   ]
  },
  {
   "cell_type": "code",
   "execution_count": null,
   "metadata": {
    "collapsed": true
   },
   "outputs": [],
   "source": [
    "a = 3"
   ]
  },
  {
   "cell_type": "code",
   "execution_count": null,
   "metadata": {
    "collapsed": false
   },
   "outputs": [],
   "source": [
    "a"
   ]
  },
  {
   "cell_type": "code",
   "execution_count": null,
   "metadata": {
    "collapsed": false
   },
   "outputs": [],
   "source": [
    "b"
   ]
  },
  {
   "cell_type": "code",
   "execution_count": null,
   "metadata": {
    "collapsed": false
   },
   "outputs": [],
   "source": [
    "c"
   ]
  },
  {
   "cell_type": "code",
   "execution_count": null,
   "metadata": {
    "collapsed": true
   },
   "outputs": [],
   "source": []
  }
 ],
 "metadata": {
  "anaconda-cloud": {},
  "kernelspec": {
   "display_name": "Python [default]",
   "language": "python",
   "name": "python3"
  },
  "language_info": {
   "codemirror_mode": {
    "name": "ipython",
    "version": 3
   },
   "file_extension": ".py",
   "mimetype": "text/x-python",
   "name": "python",
   "nbconvert_exporter": "python",
   "pygments_lexer": "ipython3",
   "version": "3.5.2"
  }
 },
 "nbformat": 4,
 "nbformat_minor": 2
}
