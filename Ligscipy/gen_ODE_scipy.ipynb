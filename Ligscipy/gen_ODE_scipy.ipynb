{
 "cells": [
  {
   "cell_type": "code",
   "execution_count": 11,
   "metadata": {
    "collapsed": true
   },
   "outputs": [],
   "source": [
    "import ligpy_utils as lig\n",
    "import constants as const"
   ]
  },
  {
   "cell_type": "code",
   "execution_count": 2,
   "metadata": {
    "collapsed": true
   },
   "outputs": [],
   "source": [
    "T = 300"
   ]
  },
  {
   "cell_type": "code",
   "execution_count": 3,
   "metadata": {
    "collapsed": false
   },
   "outputs": [],
   "source": [
    "reactionlist, rateconstantlist, compositionlist = lig.set_paths()\n",
    "y_list = lig.get_specieslist(reactionlist)"
   ]
  },
  {
   "cell_type": "code",
   "execution_count": 5,
   "metadata": {
    "collapsed": false
   },
   "outputs": [
    {
     "data": {
      "text/plain": [
       "1.6962168339149761"
      ]
     },
     "execution_count": 5,
     "metadata": {},
     "output_type": "execute_result"
    }
   ],
   "source": [
    "speciesindices, indices_to_species = lig.get_speciesindices(y_list)\n",
    "rate_list = lig.build_rates_list(rateconstantlist, reactionlist, speciesindices, indices_to_species, T)\n",
    "species_rxns = lig.build_species_rxns_dict(reactionlist)\n",
    "dydt_expressions = lig.build_dydt_list(rate_list, y_list, species_rxns)\n",
    "kmatrix = lig.build_k_matrix(rateconstantlist)\n",
    "kvaluelist = lig.get_k_value_list(T, kmatrix)\n",
    "PLIGC_0, PLIGH_0, PLIGO_0 = lig.define_initial_composition(compositionlist, 'Pseudotsuga_menziesii')"
   ]
  },
  {
   "cell_type": "code",
   "execution_count": 32,
   "metadata": {
    "collapsed": false
   },
   "outputs": [],
   "source": [
    "with open('solve_ODEs_T%s.py' %T, 'w') as f:\n",
    "    text = \"#!/usr/bin/pythons\\n\" \\\n",
    "            \"# -*- coding: utf-8 -*-\\n\\n\" \\\n",
    "            \"from scipy.integrate import odeint\\n\\n\\n\" \\\n",
    "            \"def ODEs(y, t, p):\\n\"\n",
    "    f.write(text)\n",
    "    \n",
    "    y = '\\t' + y_list[0]\n",
    "    for i in y_list[1:]:\n",
    "        y += (', ' + i)\n",
    "    y += ' = y'\n",
    "    f.write(y + '\\n')\n",
    "    \n",
    "    p = '\\tk_%s_0' %T\n",
    "    for i in range(1, len(kvaluelist)):\n",
    "        p += ', k_%s_%s' %(T, i)\n",
    "    p += ' = p'\n",
    "    f.write(p + '\\n')\n",
    "    \n",
    "    dydt = '\\tdydt = [%s' %dydt_expressions[0].split('=')[1][1:-2]\n",
    "    for ODE in dydt_expressions[1:]:\n",
    "        dydt += (', \\n\\t\\t\\t' + ODE.split('=')[1][1:-2])\n",
    "    dydt += ']'\n",
    "    f.write(dydt + '\\n')\n",
    "    \n",
    "    f.write('\\treturn dydt\\n\\n')\n",
    "    f.write('# k values\\n')\n",
    "    for i in range(len(kvaluelist)):\n",
    "        f.write('k_%s_%s = %s\\n' %(T, i, kvaluelist[i]))\n",
    "        \n",
    "    f.write('\\n# Initial conditions\\n')\n",
    "    f.write('PLIGC = %s\\nPLIGH = %s\\nPLIGO = %s\\n' %(PLIGC_0, PLIGH_0, PLIGO_0))\n",
    "    IC = ''\n",
    "    for i in y_list:\n",
    "        if i == 'PLIGC' or i == 'PLIGH' or i == 'PLIGO':\n",
    "            continue\n",
    "        else:\n",
    "            IC += ('%s = ' %i)\n",
    "    IC += '0'\n",
    "    f.write(IC + '\\n\\n')\n",
    "    \n",
    "    f.write('# ODE solver parameters\\n')\n",
    "    f.write('abserr = %s\\n' %const.ABSOLUTE_TOLERANCE)\n",
    "    f.write('relerr = %s\\n' %const.RELATIVE_TOLERANCE)\n",
    "    f.write('stoptime = 2000\\n')\n",
    "    f.write('numpoints = 10000\\n\\n')\n",
    "    \n",
    "    f.write('t = [stoptime * float(i) / (numpoints - 1) for i in range(numpoints)]\\n')\n",
    "    y0 = 'y0 = [' + y_list[0]\n",
    "    for spec in y_list[1:]:\n",
    "        y0 += ', %s' %spec\n",
    "    y0 += ']'\n",
    "    f.write(y0)"
   ]
  },
  {
   "cell_type": "code",
   "execution_count": 29,
   "metadata": {
    "collapsed": false
   },
   "outputs": [
    {
     "data": {
      "text/plain": [
       "'y0 = [ADIO, ADIOM2, ALD3, C10H2, C10H2M2, C10H2M4, C2H6, C3H4O, C3H4O2, C3H6, C3H6O2, C3H8O2, CH2CO, CH3CHO, CH3OH, CH4, CHAR, CO, CO2, COUMARYL, ETOH, H2, H2O, KET, KETD, KETDM2, KETM2, LIG, LIGC, LIGH, LIGM2, LIGO, MGUAI, OH, PADIO, PADIOM2, PC2H2, PCH2OH, PCH2P, PCH3, PCHO, PCHOHP, PCHP2, PCOH, PCOHP2, PCOS, PFET3, PFET3M2, PH2, PHENOL, PKETM2, PLIG, PLIGC, PLIGH, PLIGM2, PLIGO, PRADIO, PRADIOM2, PRFET3, PRFET3M2, PRKETM2, PRLIGH, PRLIGH2, PRLIGM2A, RADIO, RADIOM2, RC3H3O, RC3H5O2, RC3H7O2, RCH3, RCH3O, RKET, RKETM2, RLIGA, RLIGB, RLIGH, RLIGM2A, RLIGM2B, RMGUAI, RPHENOL, RPHENOX, RPHENOXM2, SYNAPYL, VADIO, VADIOM2, VCOUMARYL, VKET, VKETD, VKETDM2, VKETM2, VMGUAI, VPHENOL, VSYNAPYL]'"
      ]
     },
     "execution_count": 29,
     "metadata": {},
     "output_type": "execute_result"
    }
   ],
   "source": [
    "y0"
   ]
  },
  {
   "cell_type": "code",
   "execution_count": null,
   "metadata": {
    "collapsed": false
   },
   "outputs": [],
   "source": [
    "a"
   ]
  },
  {
   "cell_type": "code",
   "execution_count": null,
   "metadata": {
    "collapsed": false
   },
   "outputs": [],
   "source": [
    "a"
   ]
  },
  {
   "cell_type": "code",
   "execution_count": null,
   "metadata": {
    "collapsed": false
   },
   "outputs": [],
   "source": [
    "b"
   ]
  },
  {
   "cell_type": "code",
   "execution_count": null,
   "metadata": {
    "collapsed": true
   },
   "outputs": [],
   "source": [
    "a = 3"
   ]
  },
  {
   "cell_type": "code",
   "execution_count": null,
   "metadata": {
    "collapsed": false
   },
   "outputs": [],
   "source": [
    "a"
   ]
  },
  {
   "cell_type": "code",
   "execution_count": null,
   "metadata": {
    "collapsed": false
   },
   "outputs": [],
   "source": [
    "b"
   ]
  },
  {
   "cell_type": "code",
   "execution_count": null,
   "metadata": {
    "collapsed": false
   },
   "outputs": [],
   "source": [
    "c"
   ]
  },
  {
   "cell_type": "code",
   "execution_count": null,
   "metadata": {
    "collapsed": true
   },
   "outputs": [],
   "source": []
  }
 ],
 "metadata": {
  "anaconda-cloud": {},
  "kernelspec": {
   "display_name": "Python [default]",
   "language": "python",
   "name": "python3"
  },
  "language_info": {
   "codemirror_mode": {
    "name": "ipython",
    "version": 3
   },
   "file_extension": ".py",
   "mimetype": "text/x-python",
   "name": "python",
   "nbconvert_exporter": "python",
   "pygments_lexer": "ipython3",
   "version": "3.5.2"
  }
 },
 "nbformat": 4,
 "nbformat_minor": 2
}
